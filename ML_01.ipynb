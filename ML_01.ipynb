{
  "nbformat": 4,
  "nbformat_minor": 0,
  "metadata": {
    "colab": {
      "provenance": [],
      "authorship_tag": "ABX9TyNUj3X24o4ChRmz6Jhl6q39",
      "include_colab_link": true
    },
    "kernelspec": {
      "name": "python3",
      "display_name": "Python 3"
    },
    "language_info": {
      "name": "python"
    }
  },
  "cells": [
    {
      "cell_type": "markdown",
      "metadata": {
        "id": "view-in-github",
        "colab_type": "text"
      },
      "source": [
        "<a href=\"https://colab.research.google.com/github/tier3guy/Machine-Learning/blob/main/ML_01.ipynb\" target=\"_parent\"><img src=\"https://colab.research.google.com/assets/colab-badge.svg\" alt=\"Open In Colab\"/></a>"
      ]
    },
    {
      "cell_type": "markdown",
      "source": [
        "### Python Basics\n"
      ],
      "metadata": {
        "id": "fv8anlKmpA1d"
      }
    },
    {
      "cell_type": "code",
      "execution_count": null,
      "metadata": {
        "id": "oUr9QjLjmmho",
        "colab": {
          "base_uri": "https://localhost:8080/"
        },
        "outputId": "0c759285-21ca-4de3-9d29-eff3bd7609e4"
      },
      "outputs": [
        {
          "output_type": "stream",
          "name": "stdout",
          "text": [
            "Hello world\n"
          ]
        }
      ],
      "source": [
        "# print statement\n",
        "print(\"Hello world\")"
      ]
    },
    {
      "cell_type": "code",
      "source": [
        "# printing with placeholders\n",
        "print(\"My name is {} and my surname is {}\".format(\"Avinash\", \"Gupta\"));"
      ],
      "metadata": {
        "colab": {
          "base_uri": "https://localhost:8080/"
        },
        "id": "8BKuOFBNtbKc",
        "outputId": "b09a32b5-9a03-42db-e27c-5f4dcc438af9"
      },
      "execution_count": null,
      "outputs": [
        {
          "output_type": "stream",
          "name": "stdout",
          "text": [
            "My name is Avinash and my surname is Gupta\n"
          ]
        }
      ]
    },
    {
      "cell_type": "code",
      "source": [
        "# Input from user\n",
        "number = input(\">> Enter any number : \")\n",
        "print(\">> You have entered :\",number)"
      ],
      "metadata": {
        "colab": {
          "base_uri": "https://localhost:8080/"
        },
        "id": "FG8B8youpPsp",
        "outputId": "ce1b892e-1a3b-42b1-e1af-0a9c67c4d219"
      },
      "execution_count": null,
      "outputs": [
        {
          "output_type": "stream",
          "name": "stdout",
          "text": [
            ">> Enter any number : 56\n",
            ">> You have entered : 56\n"
          ]
        }
      ]
    },
    {
      "cell_type": "markdown",
      "source": [
        "By default anything we give in input is of string type."
      ],
      "metadata": {
        "id": "46JDm4hWpvfM"
      }
    },
    {
      "cell_type": "code",
      "source": [
        "print(type(number))"
      ],
      "metadata": {
        "colab": {
          "base_uri": "https://localhost:8080/"
        },
        "id": "vryw5Hgcp3JZ",
        "outputId": "8a098498-1abb-4535-d32d-877a2a3dfc60"
      },
      "execution_count": null,
      "outputs": [
        {
          "output_type": "stream",
          "name": "stdout",
          "text": [
            "<class 'str'>\n"
          ]
        }
      ]
    },
    {
      "cell_type": "code",
      "source": [
        "# convert the input into number - type casting\n",
        "another_number = int(input(\">> Enter again a number : \"))\n",
        "print(type(another_number))"
      ],
      "metadata": {
        "colab": {
          "base_uri": "https://localhost:8080/"
        },
        "id": "EiVPTAUzqDx8",
        "outputId": "1c05b9cf-eaed-48ae-b26d-ed54f1739e31"
      },
      "execution_count": null,
      "outputs": [
        {
          "output_type": "stream",
          "name": "stdout",
          "text": [
            ">> Enter again a number : 56\n",
            "<class 'int'>\n"
          ]
        }
      ]
    },
    {
      "cell_type": "markdown",
      "source": [
        "### Some in-built data structures in python "
      ],
      "metadata": {
        "id": "H0y0ADiWqtA6"
      }
    },
    {
      "cell_type": "code",
      "source": [
        "# List - use square brakets - unordered\n",
        "list1 = list([1,2,3,14,5,6])\n",
        "print(list1)\n",
        "list1.append(5)\n",
        "print(list1)"
      ],
      "metadata": {
        "colab": {
          "base_uri": "https://localhost:8080/"
        },
        "id": "ZVU4aZwsq2y7",
        "outputId": "313a9fba-190c-45d1-e180-ff6b603e641e"
      },
      "execution_count": null,
      "outputs": [
        {
          "output_type": "stream",
          "name": "stdout",
          "text": [
            "[1, 2, 3, 14, 5, 6]\n",
            "[1, 2, 3, 14, 5, 6, 5]\n"
          ]
        }
      ]
    },
    {
      "cell_type": "code",
      "source": [
        "# Sets - use curly brakets - ordered\n",
        "set1 = set({1,2,3,14,5,6})\n",
        "print(set1)"
      ],
      "metadata": {
        "colab": {
          "base_uri": "https://localhost:8080/"
        },
        "id": "AsTgXLwXrKIA",
        "outputId": "003d9b8e-e492-4f0b-c8c0-6a853aa6d038"
      },
      "execution_count": null,
      "outputs": [
        {
          "output_type": "stream",
          "name": "stdout",
          "text": [
            "{1, 2, 3, 5, 6, 14}\n"
          ]
        }
      ]
    },
    {
      "cell_type": "code",
      "source": [
        "# Tuple - use round brackets - unordered\n",
        "tuple1 = tuple((1,2,3,14,5,6))\n",
        "print(tuple1)\n",
        "\n",
        "# The only difference between list and tuple is that list is mutable while \n",
        "# tuple is not."
      ],
      "metadata": {
        "colab": {
          "base_uri": "https://localhost:8080/"
        },
        "id": "XsCYXeEprbXl",
        "outputId": "0a161a12-bce3-4a42-bdf9-92fefb46ce5d"
      },
      "execution_count": null,
      "outputs": [
        {
          "output_type": "stream",
          "name": "stdout",
          "text": [
            "(1, 2, 3, 14, 5, 6)\n"
          ]
        }
      ]
    },
    {
      "cell_type": "markdown",
      "source": [
        "#### Dictionaries"
      ],
      "metadata": {
        "id": "2X3rjL5KsTaZ"
      }
    },
    {
      "cell_type": "code",
      "source": [
        "dictionaries = {\"Name\": \"Avinash Gupta\", \"Age\": 20, \"Male\": True}\n",
        "# More like objects in JS\n",
        "print(dictionaries)"
      ],
      "metadata": {
        "colab": {
          "base_uri": "https://localhost:8080/"
        },
        "id": "g6cy2HbqsXF_",
        "outputId": "62bc5b34-6606-4b05-f313-f3758a037987"
      },
      "execution_count": null,
      "outputs": [
        {
          "output_type": "stream",
          "name": "stdout",
          "text": [
            "{'Name': 'Avinash Gupta', 'Age': 20, 'Male': True}\n"
          ]
        }
      ]
    },
    {
      "cell_type": "markdown",
      "source": [
        "### Functions and classes\n"
      ],
      "metadata": {
        "id": "rXWP_rDduIsY"
      }
    },
    {
      "cell_type": "code",
      "source": [
        "# python functions - def\n",
        "\n",
        "def print_details(details): \n",
        "  print(details)\n",
        "\n",
        "print_details({\"Name\": \"Avinash Gupta\", \"Age\": 20})\n",
        "print_details({\"Name\": \"Kamya Kumari\", \"Age\": 21})"
      ],
      "metadata": {
        "colab": {
          "base_uri": "https://localhost:8080/"
        },
        "id": "My3zek3DuMvq",
        "outputId": "38eff89c-cb08-402b-9ed4-b9bc664adddf"
      },
      "execution_count": null,
      "outputs": [
        {
          "output_type": "stream",
          "name": "stdout",
          "text": [
            "{'Name': 'Avinash Gupta', 'Age': 20}\n",
            "{'Name': 'Kamya Kumari', 'Age': 21}\n"
          ]
        }
      ]
    },
    {
      "cell_type": "code",
      "source": [
        "# classes in python - class\n",
        "\n",
        "class student:\n",
        "  name = \"Avinash Gupta\"\n",
        "  roll = 77\n",
        "  student = True\n",
        "\n",
        "  def __init__(self, name = None, roll = None, student = None):\n",
        "    self.name = name\n",
        "    self.roll = roll\n",
        "    self.student = student\n",
        "\n",
        "  def __print_details__(self):\n",
        "    if self.name is not None:\n",
        "      if(self.student):\n",
        "        print(\"Roll no. of {} is {}\".format(self.name, self.roll))\n",
        "    else:\n",
        "      print(\"Roll no. of {} is {} but he/she is not a student\".format(self.name, self.roll))\n",
        "\n",
        "\n",
        "avinash = student(\"Avinash\", 78, True)\n",
        "avinash.__print_details__()\n",
        "\n",
        "kamya = student()\n",
        "kamya.__print_details__()"
      ],
      "metadata": {
        "colab": {
          "base_uri": "https://localhost:8080/"
        },
        "id": "9JROgZ7ZvoNv",
        "outputId": "d2c2a739-e57a-446a-b710-345001f9cfad"
      },
      "execution_count": null,
      "outputs": [
        {
          "output_type": "stream",
          "name": "stdout",
          "text": [
            "Roll no. of Avinash is 78\n",
            "Roll no. of None is None but he/she is not a student\n"
          ]
        }
      ]
    }
  ]
}